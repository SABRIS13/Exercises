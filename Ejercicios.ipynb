{
  "nbformat": 4,
  "nbformat_minor": 0,
  "metadata": {
    "colab": {
      "provenance": [],
      "collapsed_sections": []
    },
    "kernelspec": {
      "name": "python3",
      "display_name": "Python 3"
    },
    "language_info": {
      "name": "python"
    }
  },
  "cells": [
    {
      "cell_type": "markdown",
      "source": [
        "# Ejercicio 1\n",
        "\n",
        "Pregunta tipo entrevista de trabajo dificultad: media\n",
        "\n",
        "Sólo pueden usar las librerías numpy, pandas, y sklearn (no usar eval)"
      ],
      "metadata": {
        "id": "aR-O1RjKVZv9"
      }
    },
    {
      "cell_type": "code",
      "source": [
        "import pandas as pd\n",
        "import numpy as np"
      ],
      "metadata": {
        "id": "1mRVLShRV23h"
      },
      "execution_count": null,
      "outputs": []
    },
    {
      "cell_type": "code",
      "source": [
        "# Supongamos que les dan un string con el siguiente contenido\n",
        "json_str = '[{\"name\":\"eggs\",\"price\":1},{\"name\":\"coffee\",\"price\":9.99},{\"name\":\"rice\",\"price\":4.04}]'\n",
        "\n",
        "# Ejemplo output esperado\n",
        "'[{\"name\":\"eggs\",\"price\":1},{\"name\":\"rice\",\"price\":4.04},{\"name\":\"coffee\",\"price\":9.99}]'"
      ],
      "metadata": {
        "id": "G35TKOGxVu1Q"
      },
      "execution_count": null,
      "outputs": []
    },
    {
      "cell_type": "markdown",
      "source": [
        "Crea una función que ordene los artículos de acuerdo al precio, si hay artículos con el mismo precio, éstos se deben ordenar alfabeticamente"
      ],
      "metadata": {
        "id": "tlC9S_nhWBv4"
      }
    },
    {
      "cell_type": "code",
      "execution_count": null,
      "metadata": {
        "id": "rL2YXGjulZYT"
      },
      "outputs": [],
      "source": [
        "def su_funcion(string):\n",
        "  pass"
      ]
    },
    {
      "cell_type": "code",
      "source": [
        "# pd.DataFrame(json_str)"
      ],
      "metadata": {
        "id": "epv07psZS5Gj"
      },
      "execution_count": null,
      "outputs": []
    },
    {
      "cell_type": "code",
      "source": [],
      "metadata": {
        "colab": {
          "base_uri": "https://localhost:8080/",
          "height": 195
        },
        "id": "dXE8V0DDQwi-",
        "outputId": "0d7fc1f3-f4b4-44fb-a44a-400474c08711"
      },
      "execution_count": null,
      "outputs": [
        {
          "output_type": "stream",
          "name": "stdout",
          "text": [
            "{\"name\":\"eggs\" \"price\":1}\n",
            "{\"name\":\"coffee\" \"price\":9.99}\n",
            "{\"name\":\"rice\" \"price\":4.04}\n"
          ]
        },
        {
          "output_type": "execute_result",
          "data": {
            "text/plain": [
              "       name  price\n",
              "0    \"eggs\"   1.00\n",
              "1  \"coffee\"   9.99\n",
              "2    \"rice\"   4.04"
            ],
            "text/html": [
              "\n",
              "  <div id=\"df-1036c968-a06c-4b75-b3bf-b31176231f09\">\n",
              "    <div class=\"colab-df-container\">\n",
              "      <div>\n",
              "<style scoped>\n",
              "    .dataframe tbody tr th:only-of-type {\n",
              "        vertical-align: middle;\n",
              "    }\n",
              "\n",
              "    .dataframe tbody tr th {\n",
              "        vertical-align: top;\n",
              "    }\n",
              "\n",
              "    .dataframe thead th {\n",
              "        text-align: right;\n",
              "    }\n",
              "</style>\n",
              "<table border=\"1\" class=\"dataframe\">\n",
              "  <thead>\n",
              "    <tr style=\"text-align: right;\">\n",
              "      <th></th>\n",
              "      <th>name</th>\n",
              "      <th>price</th>\n",
              "    </tr>\n",
              "  </thead>\n",
              "  <tbody>\n",
              "    <tr>\n",
              "      <th>0</th>\n",
              "      <td>\"eggs\"</td>\n",
              "      <td>1.00</td>\n",
              "    </tr>\n",
              "    <tr>\n",
              "      <th>1</th>\n",
              "      <td>\"coffee\"</td>\n",
              "      <td>9.99</td>\n",
              "    </tr>\n",
              "    <tr>\n",
              "      <th>2</th>\n",
              "      <td>\"rice\"</td>\n",
              "      <td>4.04</td>\n",
              "    </tr>\n",
              "  </tbody>\n",
              "</table>\n",
              "</div>\n",
              "      <button class=\"colab-df-convert\" onclick=\"convertToInteractive('df-1036c968-a06c-4b75-b3bf-b31176231f09')\"\n",
              "              title=\"Convert this dataframe to an interactive table.\"\n",
              "              style=\"display:none;\">\n",
              "        \n",
              "  <svg xmlns=\"http://www.w3.org/2000/svg\" height=\"24px\"viewBox=\"0 0 24 24\"\n",
              "       width=\"24px\">\n",
              "    <path d=\"M0 0h24v24H0V0z\" fill=\"none\"/>\n",
              "    <path d=\"M18.56 5.44l.94 2.06.94-2.06 2.06-.94-2.06-.94-.94-2.06-.94 2.06-2.06.94zm-11 1L8.5 8.5l.94-2.06 2.06-.94-2.06-.94L8.5 2.5l-.94 2.06-2.06.94zm10 10l.94 2.06.94-2.06 2.06-.94-2.06-.94-.94-2.06-.94 2.06-2.06.94z\"/><path d=\"M17.41 7.96l-1.37-1.37c-.4-.4-.92-.59-1.43-.59-.52 0-1.04.2-1.43.59L10.3 9.45l-7.72 7.72c-.78.78-.78 2.05 0 2.83L4 21.41c.39.39.9.59 1.41.59.51 0 1.02-.2 1.41-.59l7.78-7.78 2.81-2.81c.8-.78.8-2.07 0-2.86zM5.41 20L4 18.59l7.72-7.72 1.47 1.35L5.41 20z\"/>\n",
              "  </svg>\n",
              "      </button>\n",
              "      \n",
              "  <style>\n",
              "    .colab-df-container {\n",
              "      display:flex;\n",
              "      flex-wrap:wrap;\n",
              "      gap: 12px;\n",
              "    }\n",
              "\n",
              "    .colab-df-convert {\n",
              "      background-color: #E8F0FE;\n",
              "      border: none;\n",
              "      border-radius: 50%;\n",
              "      cursor: pointer;\n",
              "      display: none;\n",
              "      fill: #1967D2;\n",
              "      height: 32px;\n",
              "      padding: 0 0 0 0;\n",
              "      width: 32px;\n",
              "    }\n",
              "\n",
              "    .colab-df-convert:hover {\n",
              "      background-color: #E2EBFA;\n",
              "      box-shadow: 0px 1px 2px rgba(60, 64, 67, 0.3), 0px 1px 3px 1px rgba(60, 64, 67, 0.15);\n",
              "      fill: #174EA6;\n",
              "    }\n",
              "\n",
              "    [theme=dark] .colab-df-convert {\n",
              "      background-color: #3B4455;\n",
              "      fill: #D2E3FC;\n",
              "    }\n",
              "\n",
              "    [theme=dark] .colab-df-convert:hover {\n",
              "      background-color: #434B5C;\n",
              "      box-shadow: 0px 1px 3px 1px rgba(0, 0, 0, 0.15);\n",
              "      filter: drop-shadow(0px 1px 2px rgba(0, 0, 0, 0.3));\n",
              "      fill: #FFFFFF;\n",
              "    }\n",
              "  </style>\n",
              "\n",
              "      <script>\n",
              "        const buttonEl =\n",
              "          document.querySelector('#df-1036c968-a06c-4b75-b3bf-b31176231f09 button.colab-df-convert');\n",
              "        buttonEl.style.display =\n",
              "          google.colab.kernel.accessAllowed ? 'block' : 'none';\n",
              "\n",
              "        async function convertToInteractive(key) {\n",
              "          const element = document.querySelector('#df-1036c968-a06c-4b75-b3bf-b31176231f09');\n",
              "          const dataTable =\n",
              "            await google.colab.kernel.invokeFunction('convertToInteractive',\n",
              "                                                     [key], {});\n",
              "          if (!dataTable) return;\n",
              "\n",
              "          const docLinkHtml = 'Like what you see? Visit the ' +\n",
              "            '<a target=\"_blank\" href=https://colab.research.google.com/notebooks/data_table.ipynb>data table notebook</a>'\n",
              "            + ' to learn more about interactive tables.';\n",
              "          element.innerHTML = '';\n",
              "          dataTable['output_type'] = 'display_data';\n",
              "          await google.colab.output.renderOutput(dataTable, element);\n",
              "          const docLink = document.createElement('div');\n",
              "          docLink.innerHTML = docLinkHtml;\n",
              "          element.appendChild(docLink);\n",
              "        }\n",
              "      </script>\n",
              "    </div>\n",
              "  </div>\n",
              "  "
            ]
          },
          "metadata": {},
          "execution_count": 52
        }
      ]
    },
    {
      "cell_type": "markdown",
      "source": [
        "# Ejercicio 2: KNN"
      ],
      "metadata": {
        "id": "VRVt8JuABCmX"
      }
    },
    {
      "cell_type": "code",
      "source": [
        "import pandas as pd\n",
        "import math\n",
        "import sklearn\n",
        "import numpy as np\n",
        "from sklearn.neighbors import KNeighborsClassifier\n",
        "from sklearn.preprocessing import MinMaxScaler\n",
        "\n",
        "\n",
        "def distance(data_loan, data_derogatory, test_loan, test_derogatory):\n",
        "    return (((data_loan - test_loan) ** 2 +\n",
        "                     100000000 * (data_derogatory - test_derogatory) ** 2)**(1/2))\n",
        "\n",
        "def applic_approval(data, loan, derogatory_marks, k):\n",
        "    \"\"\"\n",
        "    :param data: (pandas.DataFrame) A DataFrame that contains training data. \n",
        "                    It has the following columns: Loan, DerogatoryMarks, Accepted.\n",
        "    :param loan: (int) Requested loan.\n",
        "    :param derogatory_marks: (int) Number of derogatory marks for the customer.\n",
        "    :param k: (int) Coeficient k in the k-nearest neighbors' algorithm.\n",
        "    :returns: (boolean) True if the customer's loan can be accepted; False otherwise.\n",
        "    \"\"\"\n",
        "    \n",
        "    return classifier.predict(test)\n",
        "\n",
        "data = pd.DataFrame({\n",
        "            'Loan' : [52000, 100000, 97000, 62000],\n",
        "            'DerogatoryMarks' : [0, 2, 0, 5],\n",
        "            'Accepted' : [True, True, False, True]\n",
        "        }, \n",
        "        columns = ['Loan', 'DerogatoryMarks', 'Accepted']\n",
        "    )\n",
        "\n",
        "# Ejemplo de uso\n",
        "# print(application_approval(data, 85000, 1, 1))\n",
        "# [False]"
      ],
      "metadata": {
        "id": "Fkip36InBz8N"
      },
      "execution_count": null,
      "outputs": []
    },
    {
      "cell_type": "markdown",
      "source": [
        "Realiza 2 modelos de KNN uno utilizando la función *distance* y el segundo utilizando la función *MinMaxScaler()* para transformar los datos (k=1 en ambos casos)\n",
        "\n",
        "**Nota:** No lovides que si se hace una transformación en X_train, también se debe hacer en X_test"
      ],
      "metadata": {
        "id": "yhg2a_HzXR-_"
      }
    },
    {
      "cell_type": "code",
      "source": [
        "scaler = MinMaxScaler()\n",
        "loan = 85e3\n",
        "derogatory_marks = 1\n",
        "# distance(loan,derogatory_marks,data['Loan'],data['DerogatoryMarks'])"
      ],
      "metadata": {
        "id": "_mgC7nfAXhY2"
      },
      "execution_count": null,
      "outputs": []
    },
    {
      "cell_type": "code",
      "source": [
        "X = data.drop(columns = ['Accepted'])\n",
        "y = data['Accepted']"
      ],
      "metadata": {
        "id": "qjuzEm08B3tV"
      },
      "execution_count": null,
      "outputs": []
    },
    {
      "cell_type": "markdown",
      "source": [
        "Encuentra un caso en donde los mismos datos den resultados distintos con cada modelo (se puede cambiar el conjunto de data)"
      ],
      "metadata": {
        "id": "_9kjb1oyYOqv"
      }
    },
    {
      "cell_type": "code",
      "source": [],
      "metadata": {
        "id": "7fMgPz5GB3iz"
      },
      "execution_count": null,
      "outputs": []
    }
  ]
}