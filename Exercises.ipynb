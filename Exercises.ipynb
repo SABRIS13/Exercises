{
  "nbformat": 4,
  "nbformat_minor": 0,
  "metadata": {
    "colab": {
      "provenance": [],
      "collapsed_sections": []
    },
    "kernelspec": {
      "name": "python3",
      "display_name": "Python 3"
    },
    "language_info": {
      "name": "python"
    }
  },
  "cells": [
    {
      "cell_type": "markdown",
      "source": [
        "# Ejercicio 1\n",
        "\n",
        "Pregunta tipo entrevista de trabajo dificultad: media\n",
        "\n",
        "Sólo pueden usar las librerías numpy, pandas, y sklearn (no usar eval)"
      ],
      "metadata": {
        "id": "aR-O1RjKVZv9"
      }
    },
    {
      "cell_type": "code",
      "source": [
        "import pandas as pd\n",
        "import numpy as np\n",
        "import json\n",
        "from pandas import json_normalize"
      ],
      "metadata": {
        "id": "1mRVLShRV23h"
      },
      "execution_count": 1,
      "outputs": []
    },
    {
      "cell_type": "code",
      "source": [
        "# Supongamos que les dan un string con el siguiente contenido\n",
        "json_str = '[{\"name\":\"eggs\",\"price\":1},{\"name\":\"coffee\",\"price\":9.99},{\"name\":\"rice\",\"price\":4.04}]'\n",
        "\n",
        "# Ejemplo output esperado\n",
        "'[{\"name\":\"eggs\",\"price\":1},{\"name\":\"rice\",\"price\":4.04},{\"name\":\"coffee\",\"price\":9.99}]'"
      ],
      "metadata": {
        "id": "G35TKOGxVu1Q",
        "colab": {
          "base_uri": "https://localhost:8080/",
          "height": 36
        },
        "outputId": "4f39d5b3-e5d6-444e-8213-d1fd971ef955"
      },
      "execution_count": 2,
      "outputs": [
        {
          "output_type": "execute_result",
          "data": {
            "text/plain": [
              "'[{\"name\":\"eggs\",\"price\":1},{\"name\":\"rice\",\"price\":4.04},{\"name\":\"coffee\",\"price\":9.99}]'"
            ],
            "application/vnd.google.colaboratory.intrinsic+json": {
              "type": "string"
            }
          },
          "metadata": {},
          "execution_count": 2
        }
      ]
    },
    {
      "cell_type": "markdown",
      "source": [
        "Crea una función que ordene los artículos de acuerdo al precio, si hay artículos con el mismo precio, éstos se deben ordenar alfabeticamente"
      ],
      "metadata": {
        "id": "tlC9S_nhWBv4"
      }
    },
    {
      "cell_type": "code",
      "execution_count": 3,
      "metadata": {
        "id": "rL2YXGjulZYT"
      },
      "outputs": [],
      "source": [
        "def ordenar(string):\n",
        "  data = json.loads(string)\n",
        "  df = json_normalize(data) \n",
        "  df=df.sort_values(by=['price','name'])\n",
        "  return df"
      ]
    },
    {
      "cell_type": "code",
      "source": [
        "ordenar(json_str)"
      ],
      "metadata": {
        "colab": {
          "base_uri": "https://localhost:8080/",
          "height": 143
        },
        "id": "B3LufQqkn1Ml",
        "outputId": "047326ae-6f14-40b3-9ee9-8458693e3bf6"
      },
      "execution_count": 4,
      "outputs": [
        {
          "output_type": "execute_result",
          "data": {
            "text/plain": [
              "     name  price\n",
              "0    eggs   1.00\n",
              "2    rice   4.04\n",
              "1  coffee   9.99"
            ],
            "text/html": [
              "\n",
              "  <div id=\"df-c08b07fb-299c-4a97-a2db-8bb68da0c2ff\">\n",
              "    <div class=\"colab-df-container\">\n",
              "      <div>\n",
              "<style scoped>\n",
              "    .dataframe tbody tr th:only-of-type {\n",
              "        vertical-align: middle;\n",
              "    }\n",
              "\n",
              "    .dataframe tbody tr th {\n",
              "        vertical-align: top;\n",
              "    }\n",
              "\n",
              "    .dataframe thead th {\n",
              "        text-align: right;\n",
              "    }\n",
              "</style>\n",
              "<table border=\"1\" class=\"dataframe\">\n",
              "  <thead>\n",
              "    <tr style=\"text-align: right;\">\n",
              "      <th></th>\n",
              "      <th>name</th>\n",
              "      <th>price</th>\n",
              "    </tr>\n",
              "  </thead>\n",
              "  <tbody>\n",
              "    <tr>\n",
              "      <th>0</th>\n",
              "      <td>eggs</td>\n",
              "      <td>1.00</td>\n",
              "    </tr>\n",
              "    <tr>\n",
              "      <th>2</th>\n",
              "      <td>rice</td>\n",
              "      <td>4.04</td>\n",
              "    </tr>\n",
              "    <tr>\n",
              "      <th>1</th>\n",
              "      <td>coffee</td>\n",
              "      <td>9.99</td>\n",
              "    </tr>\n",
              "  </tbody>\n",
              "</table>\n",
              "</div>\n",
              "      <button class=\"colab-df-convert\" onclick=\"convertToInteractive('df-c08b07fb-299c-4a97-a2db-8bb68da0c2ff')\"\n",
              "              title=\"Convert this dataframe to an interactive table.\"\n",
              "              style=\"display:none;\">\n",
              "        \n",
              "  <svg xmlns=\"http://www.w3.org/2000/svg\" height=\"24px\"viewBox=\"0 0 24 24\"\n",
              "       width=\"24px\">\n",
              "    <path d=\"M0 0h24v24H0V0z\" fill=\"none\"/>\n",
              "    <path d=\"M18.56 5.44l.94 2.06.94-2.06 2.06-.94-2.06-.94-.94-2.06-.94 2.06-2.06.94zm-11 1L8.5 8.5l.94-2.06 2.06-.94-2.06-.94L8.5 2.5l-.94 2.06-2.06.94zm10 10l.94 2.06.94-2.06 2.06-.94-2.06-.94-.94-2.06-.94 2.06-2.06.94z\"/><path d=\"M17.41 7.96l-1.37-1.37c-.4-.4-.92-.59-1.43-.59-.52 0-1.04.2-1.43.59L10.3 9.45l-7.72 7.72c-.78.78-.78 2.05 0 2.83L4 21.41c.39.39.9.59 1.41.59.51 0 1.02-.2 1.41-.59l7.78-7.78 2.81-2.81c.8-.78.8-2.07 0-2.86zM5.41 20L4 18.59l7.72-7.72 1.47 1.35L5.41 20z\"/>\n",
              "  </svg>\n",
              "      </button>\n",
              "      \n",
              "  <style>\n",
              "    .colab-df-container {\n",
              "      display:flex;\n",
              "      flex-wrap:wrap;\n",
              "      gap: 12px;\n",
              "    }\n",
              "\n",
              "    .colab-df-convert {\n",
              "      background-color: #E8F0FE;\n",
              "      border: none;\n",
              "      border-radius: 50%;\n",
              "      cursor: pointer;\n",
              "      display: none;\n",
              "      fill: #1967D2;\n",
              "      height: 32px;\n",
              "      padding: 0 0 0 0;\n",
              "      width: 32px;\n",
              "    }\n",
              "\n",
              "    .colab-df-convert:hover {\n",
              "      background-color: #E2EBFA;\n",
              "      box-shadow: 0px 1px 2px rgba(60, 64, 67, 0.3), 0px 1px 3px 1px rgba(60, 64, 67, 0.15);\n",
              "      fill: #174EA6;\n",
              "    }\n",
              "\n",
              "    [theme=dark] .colab-df-convert {\n",
              "      background-color: #3B4455;\n",
              "      fill: #D2E3FC;\n",
              "    }\n",
              "\n",
              "    [theme=dark] .colab-df-convert:hover {\n",
              "      background-color: #434B5C;\n",
              "      box-shadow: 0px 1px 3px 1px rgba(0, 0, 0, 0.15);\n",
              "      filter: drop-shadow(0px 1px 2px rgba(0, 0, 0, 0.3));\n",
              "      fill: #FFFFFF;\n",
              "    }\n",
              "  </style>\n",
              "\n",
              "      <script>\n",
              "        const buttonEl =\n",
              "          document.querySelector('#df-c08b07fb-299c-4a97-a2db-8bb68da0c2ff button.colab-df-convert');\n",
              "        buttonEl.style.display =\n",
              "          google.colab.kernel.accessAllowed ? 'block' : 'none';\n",
              "\n",
              "        async function convertToInteractive(key) {\n",
              "          const element = document.querySelector('#df-c08b07fb-299c-4a97-a2db-8bb68da0c2ff');\n",
              "          const dataTable =\n",
              "            await google.colab.kernel.invokeFunction('convertToInteractive',\n",
              "                                                     [key], {});\n",
              "          if (!dataTable) return;\n",
              "\n",
              "          const docLinkHtml = 'Like what you see? Visit the ' +\n",
              "            '<a target=\"_blank\" href=https://colab.research.google.com/notebooks/data_table.ipynb>data table notebook</a>'\n",
              "            + ' to learn more about interactive tables.';\n",
              "          element.innerHTML = '';\n",
              "          dataTable['output_type'] = 'display_data';\n",
              "          await google.colab.output.renderOutput(dataTable, element);\n",
              "          const docLink = document.createElement('div');\n",
              "          docLink.innerHTML = docLinkHtml;\n",
              "          element.appendChild(docLink);\n",
              "        }\n",
              "      </script>\n",
              "    </div>\n",
              "  </div>\n",
              "  "
            ]
          },
          "metadata": {},
          "execution_count": 4
        }
      ]
    },
    {
      "cell_type": "code",
      "source": [
        "json2 = '[{\"name\":\"eggs\",\"price\":1},{\"name\":\"coffee\",\"price\":9.99},{\"name\":\"rice\",\"price\":4.04},{\"name\":\"bread\",\"price\":1},{\"name\":\"sugar\",\"price\":9.99},{\"name\":\"chips\",\"price\":4.04},{\"name\":\"oil\",\"price\":1},{\"name\":\"lemons\",\"price\":9.99},{\"name\":\"cookies\",\"price\":4.04}]'"
      ],
      "metadata": {
        "id": "rTwju53Sn72y"
      },
      "execution_count": 5,
      "outputs": []
    },
    {
      "cell_type": "code",
      "source": [
        "ordenar(json2)"
      ],
      "metadata": {
        "colab": {
          "base_uri": "https://localhost:8080/",
          "height": 332
        },
        "id": "8Wpm99hKoYoz",
        "outputId": "4efd92f9-2063-423a-812a-055063fc1b7e"
      },
      "execution_count": 6,
      "outputs": [
        {
          "output_type": "execute_result",
          "data": {
            "text/plain": [
              "      name  price\n",
              "3    bread   1.00\n",
              "0     eggs   1.00\n",
              "6      oil   1.00\n",
              "5    chips   4.04\n",
              "8  cookies   4.04\n",
              "2     rice   4.04\n",
              "1   coffee   9.99\n",
              "7   lemons   9.99\n",
              "4    sugar   9.99"
            ],
            "text/html": [
              "\n",
              "  <div id=\"df-ffd0402e-7e69-413b-8fe0-0a4446355a1e\">\n",
              "    <div class=\"colab-df-container\">\n",
              "      <div>\n",
              "<style scoped>\n",
              "    .dataframe tbody tr th:only-of-type {\n",
              "        vertical-align: middle;\n",
              "    }\n",
              "\n",
              "    .dataframe tbody tr th {\n",
              "        vertical-align: top;\n",
              "    }\n",
              "\n",
              "    .dataframe thead th {\n",
              "        text-align: right;\n",
              "    }\n",
              "</style>\n",
              "<table border=\"1\" class=\"dataframe\">\n",
              "  <thead>\n",
              "    <tr style=\"text-align: right;\">\n",
              "      <th></th>\n",
              "      <th>name</th>\n",
              "      <th>price</th>\n",
              "    </tr>\n",
              "  </thead>\n",
              "  <tbody>\n",
              "    <tr>\n",
              "      <th>3</th>\n",
              "      <td>bread</td>\n",
              "      <td>1.00</td>\n",
              "    </tr>\n",
              "    <tr>\n",
              "      <th>0</th>\n",
              "      <td>eggs</td>\n",
              "      <td>1.00</td>\n",
              "    </tr>\n",
              "    <tr>\n",
              "      <th>6</th>\n",
              "      <td>oil</td>\n",
              "      <td>1.00</td>\n",
              "    </tr>\n",
              "    <tr>\n",
              "      <th>5</th>\n",
              "      <td>chips</td>\n",
              "      <td>4.04</td>\n",
              "    </tr>\n",
              "    <tr>\n",
              "      <th>8</th>\n",
              "      <td>cookies</td>\n",
              "      <td>4.04</td>\n",
              "    </tr>\n",
              "    <tr>\n",
              "      <th>2</th>\n",
              "      <td>rice</td>\n",
              "      <td>4.04</td>\n",
              "    </tr>\n",
              "    <tr>\n",
              "      <th>1</th>\n",
              "      <td>coffee</td>\n",
              "      <td>9.99</td>\n",
              "    </tr>\n",
              "    <tr>\n",
              "      <th>7</th>\n",
              "      <td>lemons</td>\n",
              "      <td>9.99</td>\n",
              "    </tr>\n",
              "    <tr>\n",
              "      <th>4</th>\n",
              "      <td>sugar</td>\n",
              "      <td>9.99</td>\n",
              "    </tr>\n",
              "  </tbody>\n",
              "</table>\n",
              "</div>\n",
              "      <button class=\"colab-df-convert\" onclick=\"convertToInteractive('df-ffd0402e-7e69-413b-8fe0-0a4446355a1e')\"\n",
              "              title=\"Convert this dataframe to an interactive table.\"\n",
              "              style=\"display:none;\">\n",
              "        \n",
              "  <svg xmlns=\"http://www.w3.org/2000/svg\" height=\"24px\"viewBox=\"0 0 24 24\"\n",
              "       width=\"24px\">\n",
              "    <path d=\"M0 0h24v24H0V0z\" fill=\"none\"/>\n",
              "    <path d=\"M18.56 5.44l.94 2.06.94-2.06 2.06-.94-2.06-.94-.94-2.06-.94 2.06-2.06.94zm-11 1L8.5 8.5l.94-2.06 2.06-.94-2.06-.94L8.5 2.5l-.94 2.06-2.06.94zm10 10l.94 2.06.94-2.06 2.06-.94-2.06-.94-.94-2.06-.94 2.06-2.06.94z\"/><path d=\"M17.41 7.96l-1.37-1.37c-.4-.4-.92-.59-1.43-.59-.52 0-1.04.2-1.43.59L10.3 9.45l-7.72 7.72c-.78.78-.78 2.05 0 2.83L4 21.41c.39.39.9.59 1.41.59.51 0 1.02-.2 1.41-.59l7.78-7.78 2.81-2.81c.8-.78.8-2.07 0-2.86zM5.41 20L4 18.59l7.72-7.72 1.47 1.35L5.41 20z\"/>\n",
              "  </svg>\n",
              "      </button>\n",
              "      \n",
              "  <style>\n",
              "    .colab-df-container {\n",
              "      display:flex;\n",
              "      flex-wrap:wrap;\n",
              "      gap: 12px;\n",
              "    }\n",
              "\n",
              "    .colab-df-convert {\n",
              "      background-color: #E8F0FE;\n",
              "      border: none;\n",
              "      border-radius: 50%;\n",
              "      cursor: pointer;\n",
              "      display: none;\n",
              "      fill: #1967D2;\n",
              "      height: 32px;\n",
              "      padding: 0 0 0 0;\n",
              "      width: 32px;\n",
              "    }\n",
              "\n",
              "    .colab-df-convert:hover {\n",
              "      background-color: #E2EBFA;\n",
              "      box-shadow: 0px 1px 2px rgba(60, 64, 67, 0.3), 0px 1px 3px 1px rgba(60, 64, 67, 0.15);\n",
              "      fill: #174EA6;\n",
              "    }\n",
              "\n",
              "    [theme=dark] .colab-df-convert {\n",
              "      background-color: #3B4455;\n",
              "      fill: #D2E3FC;\n",
              "    }\n",
              "\n",
              "    [theme=dark] .colab-df-convert:hover {\n",
              "      background-color: #434B5C;\n",
              "      box-shadow: 0px 1px 3px 1px rgba(0, 0, 0, 0.15);\n",
              "      filter: drop-shadow(0px 1px 2px rgba(0, 0, 0, 0.3));\n",
              "      fill: #FFFFFF;\n",
              "    }\n",
              "  </style>\n",
              "\n",
              "      <script>\n",
              "        const buttonEl =\n",
              "          document.querySelector('#df-ffd0402e-7e69-413b-8fe0-0a4446355a1e button.colab-df-convert');\n",
              "        buttonEl.style.display =\n",
              "          google.colab.kernel.accessAllowed ? 'block' : 'none';\n",
              "\n",
              "        async function convertToInteractive(key) {\n",
              "          const element = document.querySelector('#df-ffd0402e-7e69-413b-8fe0-0a4446355a1e');\n",
              "          const dataTable =\n",
              "            await google.colab.kernel.invokeFunction('convertToInteractive',\n",
              "                                                     [key], {});\n",
              "          if (!dataTable) return;\n",
              "\n",
              "          const docLinkHtml = 'Like what you see? Visit the ' +\n",
              "            '<a target=\"_blank\" href=https://colab.research.google.com/notebooks/data_table.ipynb>data table notebook</a>'\n",
              "            + ' to learn more about interactive tables.';\n",
              "          element.innerHTML = '';\n",
              "          dataTable['output_type'] = 'display_data';\n",
              "          await google.colab.output.renderOutput(dataTable, element);\n",
              "          const docLink = document.createElement('div');\n",
              "          docLink.innerHTML = docLinkHtml;\n",
              "          element.appendChild(docLink);\n",
              "        }\n",
              "      </script>\n",
              "    </div>\n",
              "  </div>\n",
              "  "
            ]
          },
          "metadata": {},
          "execution_count": 6
        }
      ]
    },
    {
      "cell_type": "code",
      "source": [],
      "metadata": {
        "id": "dXE8V0DDQwi-"
      },
      "execution_count": 6,
      "outputs": []
    },
    {
      "cell_type": "markdown",
      "source": [
        "# Ejercicio 2: KNN"
      ],
      "metadata": {
        "id": "VRVt8JuABCmX"
      }
    },
    {
      "cell_type": "code",
      "source": [
        "import pandas as pd\n",
        "import math\n",
        "import sklearn\n",
        "import numpy as np\n",
        "from sklearn.neighbors import KNeighborsClassifier\n",
        "from sklearn.preprocessing import MinMaxScaler\n",
        "\n",
        "\n",
        "def distance(data_loan, data_derogatory, test_loan, test_derogatory):\n",
        "    return (((data_loan - test_loan) ** 2 +\n",
        "                     100000000 * (data_derogatory - test_derogatory) ** 2)**(1/2))\n",
        "\n",
        "def applic_approval(data, loan, derogatory_marks, k):\n",
        "    \"\"\"\n",
        "    :param data: (pandas.DataFrame) A DataFrame that contains training data. \n",
        "                    It has the following columns: Loan, DerogatoryMarks, Accepted.\n",
        "    :param loan: (int) Requested loan.\n",
        "    :param derogatory_marks: (int) Number of derogatory marks for the customer.\n",
        "    :param k: (int) Coeficient k in the k-nearest neighbors' algorithm.\n",
        "    :returns: (boolean) True if the customer's loan can be accepted; False otherwise.\n",
        "    \"\"\"\n",
        "    \n",
        "    return classifier.predict(test)\n",
        "\n",
        "data = pd.DataFrame({\n",
        "            'Loan' : [52000, 100000, 97000, 62000],\n",
        "            'DerogatoryMarks' : [0, 2, 0, 5],\n",
        "            'Accepted' : [True, True, False, True]\n",
        "        }, \n",
        "        columns = ['Loan', 'DerogatoryMarks', 'Accepted']\n",
        "    )\n",
        "\n",
        "# Ejemplo de uso\n",
        "#print(applic_approval(data, 85000, 1, 1))\n",
        "# [False]"
      ],
      "metadata": {
        "id": "Fkip36InBz8N"
      },
      "execution_count": 7,
      "outputs": []
    },
    {
      "cell_type": "markdown",
      "source": [
        "Realiza 2 modelos de KNN uno utilizando la función *distance* y el segundo utilizando la función *MinMaxScaler()* para transformar los datos (k=1 en ambos casos)\n",
        "\n",
        "**Nota:** No lovides que si se hace una transformación en X_train, también se debe hacer en X_test"
      ],
      "metadata": {
        "id": "yhg2a_HzXR-_"
      }
    },
    {
      "cell_type": "code",
      "source": [
        "scaler = MinMaxScaler()\n",
        "loan = 85e3\n",
        "derogatory_marks = 1\n",
        "# distance(loan,derogatory_marks,data['Loan'],data['DerogatoryMarks'])"
      ],
      "metadata": {
        "id": "_mgC7nfAXhY2"
      },
      "execution_count": 9,
      "outputs": []
    },
    {
      "cell_type": "code",
      "source": [
        "X = data.drop(columns = ['Accepted'])\n",
        "y = data['Accepted']"
      ],
      "metadata": {
        "id": "qjuzEm08B3tV"
      },
      "execution_count": 10,
      "outputs": []
    },
    {
      "cell_type": "code",
      "source": [
        "#Modelo de KNN usando MinMxScaler\n",
        "\n",
        "def applic_approval(data, loan, derogatory_marks, k):\n",
        "    \"\"\"\n",
        "    :param data: (pandas.DataFrame) A DataFrame that contains training data. \n",
        "                    It has the following columns: Loan, DerogatoryMarks, Accepted.\n",
        "    :param loan: (int) Requested loan.\n",
        "    :param derogatory_marks: (int) Number of derogatory marks for the customer.\n",
        "    :param k: (int) Coeficient k in the k-nearest neighbors' algorithm.\n",
        "    :returns: (boolean) True if the customer's loan can be accepted; False otherwise.\n",
        "    \"\"\"\n",
        "    X_train = data.drop(columns = ['Accepted'])\n",
        "    y_train = data['Accepted']\n",
        "    X_test= pd.DataFrame({'Loan' : loan,'DerogatoryMarks' : derogatory_marks}, index=[0])\n",
        "\n",
        "    scaler = MinMaxScaler()\n",
        "    scaler.fit(X_train)\n",
        "    x_train = scaler.transform(X_train)\n",
        "    x_test = scaler.transform(X_test)\n",
        "    classifier = KNeighborsClassifier(n_neighbors = k)\n",
        "    classifier.fit(x_train, y_train)\n",
        "\n",
        "    return classifier.predict(x_test)"
      ],
      "metadata": {
        "id": "7fMgPz5GB3iz"
      },
      "execution_count": 25,
      "outputs": []
    },
    {
      "cell_type": "code",
      "source": [
        "applic_approval(data,85000,1,1)"
      ],
      "metadata": {
        "colab": {
          "base_uri": "https://localhost:8080/"
        },
        "id": "4QkK6biNGV7u",
        "outputId": "3696339b-b1d1-44bc-ee1a-6514106b0c79"
      },
      "execution_count": 57,
      "outputs": [
        {
          "output_type": "execute_result",
          "data": {
            "text/plain": [
              "array([ True])"
            ]
          },
          "metadata": {},
          "execution_count": 57
        }
      ]
    },
    {
      "cell_type": "code",
      "source": [
        "def distance(data_loan, data_derogatory, test_loan, test_derogatory):\n",
        "    return (((data_loan - test_loan) ** 2 +\n",
        "                     100000000 * (data_derogatory - test_derogatory) ** 2)**(1/2))"
      ],
      "metadata": {
        "id": "YoWFmJXK-F5k"
      },
      "execution_count": null,
      "outputs": []
    },
    {
      "cell_type": "code",
      "source": [
        "def applic_approval_distance(data, loan, derogatory_marks, k):\n",
        "    \"\"\"\n",
        "    :param data: (pandas.DataFrame) A DataFrame that contains training data. \n",
        "                    It has the following columns: Loan, DerogatoryMarks, Accepted.\n",
        "    :param loan: (int) Requested loan.\n",
        "    :param derogatory_marks: (int) Number of derogatory marks for the customer.\n",
        "    :param k: (int) Coeficient k in the k-nearest neighbors' algorithm.\n",
        "    :returns: (boolean) True if the customer's loan can be accepted; False otherwise.\n",
        "    \"\"\"\n",
        "    X_train = data.drop(columns = ['Accepted'])\n",
        "    y_train = data['Accepted']\n",
        "    X_test= pd.DataFrame({'Loan' : loan,'DerogatoryMarks' : derogatory_marks}, index=[0])\n",
        "    scaler = distance(X_train[1].X_train[2],loan,derogatory_marks)\n",
        "    scaler.fit(X_train)\n",
        "    x_train = scaler.transform(X_train)\n",
        "    x_test = scaler.transform(X_test)\n",
        "    classifier = KNeighborsClassifier(n_neighbors = k)\n",
        "    classifier.fit(x_train, y_train)\n",
        "\n",
        "    return classifier.predict(x_test)"
      ],
      "metadata": {
        "id": "JPupI5oHFyqf"
      },
      "execution_count": 28,
      "outputs": []
    },
    {
      "cell_type": "markdown",
      "source": [
        "Encuentra un caso en donde los mismos datos den resultados distintos con cada modelo (se puede cambiar el conjunto de data)"
      ],
      "metadata": {
        "id": "_9kjb1oyYOqv"
      }
    },
    {
      "cell_type": "code",
      "source": [
        "data = pd.DataFrame({\n",
        "            'Loan' : [52000, 100000, 97000, 62000],\n",
        "            'DerogatoryMarks' : [0, 2, 0, 5],\n",
        "            'Accepted' : [True, True, True, False]\n",
        "        }, \n",
        "        columns = ['Loan', 'DerogatoryMarks', 'Accepted']\n",
        "    )\n"
      ],
      "metadata": {
        "id": "EvGOBrJ3NlNB"
      },
      "execution_count": 56,
      "outputs": []
    },
    {
      "cell_type": "code",
      "source": [],
      "metadata": {
        "id": "-lonxJtFNxua"
      },
      "execution_count": null,
      "outputs": []
    }
  ]
}